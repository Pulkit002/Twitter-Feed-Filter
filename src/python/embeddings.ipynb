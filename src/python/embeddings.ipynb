{
 "cells": [
  {
   "cell_type": "code",
   "execution_count": 4,
   "metadata": {},
   "outputs": [],
   "source": [
    "import csv\n",
    "import torch\n",
    "from transformers import AutoTokenizer, AutoModel"
   ]
  },
  {
   "cell_type": "code",
   "execution_count": 5,
   "metadata": {},
   "outputs": [
    {
     "name": "stderr",
     "output_type": "stream",
     "text": [
      "Some weights of the model checkpoint at bert-base-uncased were not used when initializing BertModel: ['cls.seq_relationship.bias', 'cls.predictions.transform.dense.weight', 'cls.seq_relationship.weight', 'cls.predictions.transform.LayerNorm.weight', 'cls.predictions.transform.LayerNorm.bias', 'cls.predictions.decoder.weight', 'cls.predictions.transform.dense.bias', 'cls.predictions.bias']\n",
      "- This IS expected if you are initializing BertModel from the checkpoint of a model trained on another task or with another architecture (e.g. initializing a BertForSequenceClassification model from a BertForPreTraining model).\n",
      "- This IS NOT expected if you are initializing BertModel from the checkpoint of a model that you expect to be exactly identical (initializing a BertForSequenceClassification model from a BertForSequenceClassification model).\n"
     ]
    }
   ],
   "source": [
    "# Load pre-trained tokenizer and model\n",
    "tokenizer = AutoTokenizer.from_pretrained('bert-base-uncased')\n",
    "model = AutoModel.from_pretrained('bert-base-uncased')"
   ]
  },
  {
   "cell_type": "code",
   "execution_count": 7,
   "metadata": {},
   "outputs": [],
   "source": [
    "# Define a function to create embeddings for each tweet\n",
    "def create_avg_embeddings(tweet):\n",
    "    # Tokenize the tweet and convert tokens to IDs\n",
    "    inputs = tokenizer.encode_plus(tweet, add_special_tokens=True, return_tensors='pt')\n",
    "\n",
    "    # Pass the input IDs through the model to get embeddings\n",
    "    with torch.no_grad():\n",
    "        outputs = model(**inputs)\n",
    "        embeddings = outputs.last_hidden_state.mean(dim=1).squeeze()\n",
    "\n",
    "    # Convert embeddings to a numpy array and return it\n",
    "    return embeddings.mean(dim=0).numpy()"
   ]
  },
  {
   "cell_type": "code",
   "execution_count": 1,
   "metadata": {},
   "outputs": [],
   "source": [
    "# Define the path to the folder containing the text files\n",
    "data_folder = 'data/'"
   ]
  },
  {
   "cell_type": "code",
   "execution_count": 2,
   "metadata": {},
   "outputs": [],
   "source": [
    "import os"
   ]
  },
  {
   "cell_type": "code",
   "execution_count": 8,
   "metadata": {},
   "outputs": [
    {
     "name": "stdout",
     "output_type": "stream",
     "text": [
      "-0.015125579\n",
      "-0.0128026055\n",
      "-0.014571284\n"
     ]
    }
   ],
   "source": [
    "# Loop through each text file in the data folder and create average embeddings for it\n",
    "for file_name in os.listdir(data_folder):\n",
    "    # Check if the path is a file and continue only if it is\n",
    "    file_path = os.path.join(data_folder, file_name)\n",
    "    if not os.path.isfile(file_path):\n",
    "        continue\n",
    "\n",
    "    # Create average embeddings for the current text file\n",
    "    avg_embeddings = create_avg_embeddings(file_path)\n",
    "    print(avg_embeddings)"
   ]
  },
  {
   "cell_type": "code",
   "execution_count": 16,
   "metadata": {},
   "outputs": [],
   "source": [
    "import numpy as np"
   ]
  },
  {
   "cell_type": "code",
   "execution_count": 20,
   "metadata": {},
   "outputs": [],
   "source": [
    "with open('../../go/files/#SSC_CGL_AGE_RECKONING_1_JAN.csv', 'r', encoding=\"UTF-8\") as csvfile:\n",
    "    reader = csv.reader(csvfile)\n",
    "    tweets = [row[0] for row in reader]\n",
    "    embeddings = []\n",
    "    for tweet in tweets:\n",
    "        ans = create_avg_embeddings(tweet)\n",
    "        embeddings.append(ans.tolist())"
   ]
  },
  {
   "cell_type": "code",
   "execution_count": 28,
   "metadata": {},
   "outputs": [],
   "source": [
    "import glob"
   ]
  },
  {
   "cell_type": "code",
   "execution_count": 39,
   "metadata": {},
   "outputs": [],
   "source": [
    "import os\n",
    "import csv\n",
    "\n",
    "# Loop through all the text files in the directory\n",
    "directory = '../../go/files/'\n",
    "for filename in os.listdir(directory):\n",
    "    if filename.endswith('.csv'):\n",
    "        # Read in the tweets from the file\n",
    "        with open(os.path.join(directory, filename), 'r', encoding=\"UTF-8\") as file:\n",
    "            tweets = [line.strip() for line in file.readlines()]\n",
    "\n",
    "        # Create embeddings for each tweet and store in a list\n",
    "        embeddings = [create_avg_embeddings(tweet) for tweet in tweets]\n",
    "\n",
    "        # Save the embeddings in a CSV file with the same name as the text file\n",
    "        output_filename = os.path.join('../../src/python', 'embeddings_' + os.path.splitext(filename)[0] + '.csv')\n",
    "        with open(os.path.join(directory, output_filename), 'w', newline='', encoding='UTF-8') as csvfile:\n",
    "            writer = csv.writer(csvfile)\n",
    "            writer.writerows([embeddings])\n"
   ]
  }
 ],
 "metadata": {
  "kernelspec": {
   "display_name": "Python 3",
   "language": "python",
   "name": "python3"
  },
  "language_info": {
   "codemirror_mode": {
    "name": "ipython",
    "version": 3
   },
   "file_extension": ".py",
   "mimetype": "text/x-python",
   "name": "python",
   "nbconvert_exporter": "python",
   "pygments_lexer": "ipython3",
   "version": "3.11.3"
  },
  "orig_nbformat": 4
 },
 "nbformat": 4,
 "nbformat_minor": 2
}
